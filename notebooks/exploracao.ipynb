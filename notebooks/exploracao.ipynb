{
 "cells": [
  {
   "cell_type": "markdown",
   "metadata": {},
   "source": [
    "Lendo os dados"
   ]
  },
  {
   "cell_type": "code",
   "execution_count": 8,
   "metadata": {},
   "outputs": [],
   "source": [
    "path_json = '../data_raw/dados_empresaA.json'\n",
    "path_csv = '../data_raw/dados_empresaB.csv'"
   ]
  },
  {
   "cell_type": "code",
   "execution_count": 9,
   "metadata": {},
   "outputs": [
    {
     "name": "stdout",
     "output_type": "stream",
     "text": [
      "[{\"Nome do Produto\":\"Blush em p\\u00f3\",\"Categoria do Produto\":\"Eletrodom\\u00e9sticos\",\"Pre\\u00e7o do Produto (R$)\":79.41,\"Quantidade em Estoque\":7,\"Filial\":\"Filial 7\"},\n",
      "\n"
     ]
    }
   ],
   "source": [
    "with open(path_json, 'r') as file:\n",
    "    print(file.readline())"
   ]
  }
 ],
 "metadata": {
  "kernelspec": {
   "display_name": ".venv",
   "language": "python",
   "name": "python3"
  },
  "language_info": {
   "codemirror_mode": {
    "name": "ipython",
    "version": 3
   },
   "file_extension": ".py",
   "mimetype": "text/x-python",
   "name": "python",
   "nbconvert_exporter": "python",
   "pygments_lexer": "ipython3",
   "version": "3.10.12"
  }
 },
 "nbformat": 4,
 "nbformat_minor": 2
}
